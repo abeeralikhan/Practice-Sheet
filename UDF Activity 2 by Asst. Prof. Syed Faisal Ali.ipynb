{
 "cells": [
  {
   "cell_type": "markdown",
   "metadata": {},
   "source": [
    "# Python User Define Function Practice Activity - 2 "
   ]
  },
  {
   "cell_type": "markdown",
   "metadata": {},
   "source": [
    "Asst. Prof. Syed Faisal Ali              $\\;\\;\\;\\;\\;\\;$              Programming Fundamentals - FALL 2019 $\\;\\;\\;\\;\\;\\;$ Software Engineering                     $\\;\\;\\;\\;\\;\\;$                   Dated: 27 Nov 2019 $\\;\\;\\;\\;\\;\\;$ "
   ]
  },
  {
   "cell_type": "markdown",
   "metadata": {},
   "source": [
    "Completed By Abeer Ali Khan (19B-078-SE, Section B)"
   ]
  },
  {
   "cell_type": "markdown",
   "metadata": {},
   "source": [
    "Question 1: Create a function to find the following:\n",
    "If the base of triangle is 3 cm long and its equilateral triangle and the radius of circle is 1.5 cm then find the area of triangle shaded. \n"
   ]
  },
  {
   "cell_type": "markdown",
   "metadata": {},
   "source": [
    "![proj](q1.jpg)"
   ]
  },
  {
   "cell_type": "code",
   "execution_count": 57,
   "metadata": {},
   "outputs": [
    {
     "name": "stdout",
     "output_type": "stream",
     "text": [
      "The shaded area is equal to 16.314cm².\n"
     ]
    }
   ],
   "source": [
    "from math import sqrt, pi\n",
    "def areaEqu(base, radius):\n",
    "    areaEqu=((sqrt(3)/4)*base**2)*6\n",
    "    areaCir=pi*radius**2\n",
    "    return \"The shaded area is equal to {:.3f}cm\\u00b2.\".format(abs(areaEqu-areaCir))\n",
    "base=3\n",
    "radius=1.5\n",
    "print(areaEqu(base, radius))\n",
    "#Took 7 minutes"
   ]
  },
  {
   "cell_type": "markdown",
   "metadata": {},
   "source": [
    "Question 2: Create a function which can read a dictionary of your family members such as 5 members. \n",
    "1 Abbu, 1 Ammi, 2 Brothers 1 Sister. Now feed this data in dictionary in terms of name and relations.\n",
    "The UDF will ask findrelation() in this you will enter Brother it will return the names of two brothers you have inserted. In case if the relation is not found it will return “Sorry the relation doesn’t exist in your family.” \n"
   ]
  },
  {
   "cell_type": "code",
   "execution_count": 62,
   "metadata": {},
   "outputs": [
    {
     "name": "stdout",
     "output_type": "stream",
     "text": [
      "Enter a relation: brother\n",
      "\n",
      "Rayyan and Sufiyan\n"
     ]
    }
   ],
   "source": [
    "def findrelation(members, relation):\n",
    "    if relation in members:\n",
    "        return '\\n{}'.format(members[relation])\n",
    "    else:\n",
    "        return 'Sorry the relation doesn’t exist in your family.'\n",
    "members={'father':'Asif',\n",
    "         'mother':'Sadaf',\n",
    "         'brother':'Rayyan and Sufiyan',\n",
    "         'uncle':'Moazzam and Nasir',\n",
    "         'aunt':'Hina'\n",
    "        }\n",
    "relation=(str(input('Enter a relation: '))).lower()\n",
    "print(findrelation(members, relation))\n",
    "#Took 15-17 minutes"
   ]
  },
  {
   "cell_type": "code",
   "execution_count": 63,
   "metadata": {},
   "outputs": [
    {
     "name": "stdout",
     "output_type": "stream",
     "text": [
      "Enter a relation: sister\n",
      "\n",
      "Sorry the relation doesn’t exist in your family.\n"
     ]
    }
   ],
   "source": [
    "def findrelation(members, relation):\n",
    "    if relation in members:\n",
    "        return '\\n {}'.format(members[relation])\n",
    "    else:\n",
    "        return '\\nSorry the relation doesn’t exist in your family.'\n",
    "members={'father':'Asif',\n",
    "         'mother':'Sadaf',\n",
    "         'brother':'Rayyan and Sufiyan',\n",
    "         'uncle':'Moazzam and Nasir',\n",
    "         'aunt':'Hina'\n",
    "        }\n",
    "relation=(str(input('Enter a relation: '))).lower()\n",
    "print(findrelation(members, relation))"
   ]
  },
  {
   "cell_type": "markdown",
   "metadata": {},
   "source": [
    "Question 3: Create a function to find the following:\n",
    "If the base of triangle is 5 cm long and its equilateral triangle and the radius of circle is 2.25 cm then find the area of triangle shaded. \n"
   ]
  },
  {
   "cell_type": "markdown",
   "metadata": {},
   "source": [
    "![proj](q3.jpg)"
   ]
  },
  {
   "cell_type": "code",
   "execution_count": 68,
   "metadata": {},
   "outputs": [
    {
     "name": "stdout",
     "output_type": "stream",
     "text": [
      "The shaded area is equal to 15.904cm².\n"
     ]
    }
   ],
   "source": [
    "from math import sqrt, pi\n",
    "def areaEqu(base, radius):\n",
    "    areaEqu=((sqrt(3)/4)*base**2)*6\n",
    "    areaCir=pi*radius**2\n",
    "    outerRegion=abs(areaEqu-areaCir)\n",
    "    innerRegion =abs(areaEqu-outerRegion)\n",
    "    return \"The shaded area is equal to {:.3f}cm\\u00b2.\".format(innerRegion)\n",
    "base=5\n",
    "radius=2.25\n",
    "print(areaEqu(base, radius))\n",
    "#Took 9 minutes"
   ]
  },
  {
   "cell_type": "markdown",
   "metadata": {},
   "source": [
    "Question 4:\n",
    "Create a function that takes a list of random numbers from users and add only those which are even. If all the numbers are odd it will return sorry no even number found.\n"
   ]
  },
  {
   "cell_type": "code",
   "execution_count": 55,
   "metadata": {},
   "outputs": [
    {
     "name": "stdout",
     "output_type": "stream",
     "text": [
      "Enter a number: 1\n",
      "Do you want to continue? (y/n): y\n",
      "Enter a number: 6\n",
      "Do you want to continue? (y/n): y\n",
      "Enter a number: 12\n",
      "Do you want to continue? (y/n): y\n",
      "Enter a number: 9\n",
      "Do you want to continue? (y/n): y\n",
      "Enter a number: 20\n",
      "Do you want to continue? (y/n): y\n",
      "Enter a number: 13\n",
      "Do you want to continue? (y/n): n\n",
      "\n",
      "Received list of Even Numbers: [6, 12, 20] \n",
      "Sum of even numbers: 38\n"
     ]
    }
   ],
   "source": [
    "def even(lst):\n",
    "    even = 0\n",
    "    evenlst = []\n",
    "    for i in lst:\n",
    "        if (i%2)==0:\n",
    "            even+=i\n",
    "            evenlst.append(i)\n",
    "    if even==0:\n",
    "        return \"Sorry no even number found\"\n",
    "    else:\n",
    "        return \"\\nReceived list of Even Numbers: {} \\nSum of even numbers: {}\".format(evenlst, even)\n",
    "numbers=[]\n",
    "ans = 'y'\n",
    "while ans=='y':\n",
    "    num=int(input('Enter a number: '))\n",
    "    numbers.append(num)\n",
    "    ans=(str(input('Do you want to continue? (y/n): '))).lower()\n",
    "print(even(numbers))"
   ]
  },
  {
   "cell_type": "markdown",
   "metadata": {},
   "source": [
    "Question 5:\n",
    "Write a function which can take a list of numbers and it will return sorted list.\n"
   ]
  },
  {
   "cell_type": "code",
   "execution_count": 48,
   "metadata": {},
   "outputs": [
    {
     "name": "stdout",
     "output_type": "stream",
     "text": [
      "\n",
      "List of numbers: [6, 10, 22, 5, 9, 11, 5, 4, 15]\n",
      "Sorted List of Numbers: [4, 5, 5, 6, 9, 10, 11, 15, 22]\n"
     ]
    }
   ],
   "source": [
    "def sort(num):\n",
    "    num.sort()\n",
    "    return \"Sorted List of Numbers: {}\".format(num)\n",
    "lst = [6, 10, 22, 5, 9, 11, 5, 4, 15]\n",
    "print(\"\\nList of numbers: {}\".format(lst))\n",
    "print(sort(lst))"
   ]
  },
  {
   "cell_type": "markdown",
   "metadata": {},
   "source": [
    "Question 6:\n",
    "Write a function that will take the radius and return the perimeter and area of circle with 5% increment.\n"
   ]
  },
  {
   "cell_type": "code",
   "execution_count": 38,
   "metadata": {},
   "outputs": [
    {
     "name": "stdout",
     "output_type": "stream",
     "text": [
      "\n",
      "Enter radius of the circle(in cm): 5\n",
      "\n",
      "Perimeter(with 5% increment): 32.987cm \n",
      "Area(with 5% increment): 82.467cm²\n"
     ]
    }
   ],
   "source": [
    "from math import pi\n",
    "def areaPeri(r):\n",
    "    area = pi*r**2\n",
    "    peri = 2*pi*r\n",
    "    return \"\\nPerimeter(with 5% increment): {:.3f}cm \\nArea(with 5% increment): {:.3f}cm\\u00b2\".format(peri+(peri*5/100), area+(area*5/100))\n",
    "r=eval(input('\\nEnter radius of the circle(in cm): '))\n",
    "print(areaPeri(r))"
   ]
  },
  {
   "cell_type": "markdown",
   "metadata": {},
   "source": [
    "Question 7:\n",
    "Write a function that will take the strings as argument and return number of vowels and consonants.\n"
   ]
  },
  {
   "cell_type": "code",
   "execution_count": 36,
   "metadata": {},
   "outputs": [
    {
     "name": "stdout",
     "output_type": "stream",
     "text": [
      "Enter a string: My name is Abeer Ali Khan\n",
      "\n",
      "Number of Vowels: 9 \n",
      "Number of constants: 11\n"
     ]
    }
   ],
   "source": [
    "def vowelsCons(string):\n",
    "    vowels = 0\n",
    "    cons = 0\n",
    "    for i in string:\n",
    "        if i in 'AEIOUaeiou':\n",
    "            vowels+=1\n",
    "        elif i!=\" \":\n",
    "            cons+=1\n",
    "    return \"\\nNumber of Vowels: {} \\nNumber of constants: {}\".format(vowels, cons)\n",
    "string=str(input(\"Enter a string: \"))\n",
    "print(vowelsCons(string))"
   ]
  },
  {
   "cell_type": "markdown",
   "metadata": {},
   "source": [
    "Question 8:\n",
    "Write a function that will take length and breadth for a rectangle and return perimeter and area of rectangle with 8% increment.\n"
   ]
  },
  {
   "cell_type": "code",
   "execution_count": 39,
   "metadata": {},
   "outputs": [
    {
     "name": "stdout",
     "output_type": "stream",
     "text": [
      "Enter length of rectangle(in cm): 15\n",
      "Enter breadth of rectangle(in cm): 20\n",
      "\n",
      "Perimeter(with 8% increment): 75.600cm \n",
      "Area(with 8% increment): 324.000cm²\n"
     ]
    }
   ],
   "source": [
    "def area_peri(l, b):\n",
    "    area = l*b\n",
    "    peri = 2*(l+b)\n",
    "    return \"\\nPerimeter(with 8% increment): {:.3f}cm \\nArea(with 8% increment): {:.3f}cm\\u00b2\".format(peri+(peri*8/100), area+(area*8/100))\n",
    "a = eval(input('Enter length of rectangle(in cm): '))\n",
    "b = eval(input('Enter breadth of rectangle(in cm): '))\n",
    "\n",
    "print(area_peri(a, b)) \n",
    "#Took 7 minutes"
   ]
  },
  {
   "cell_type": "markdown",
   "metadata": {},
   "source": [
    "Question 9:\n",
    "Write a function that can take the numbers in strings. From string find which number is even and which one is odd. Save them in two different lists and generate the result.\n"
   ]
  },
  {
   "cell_type": "code",
   "execution_count": 69,
   "metadata": {},
   "outputs": [
    {
     "name": "stdout",
     "output_type": "stream",
     "text": [
      "\n",
      "Even list: ['2', '4', '6', '8', '10', '12'] \n",
      "Odd list: ['1', '3', '5', '7', '9', '11', '13']\n"
     ]
    }
   ],
   "source": [
    "def even_odd(num):\n",
    "    even=[]\n",
    "    odd=[]\n",
    "    for i in num:\n",
    "        if int(i)%2==0:\n",
    "            even.append(i)\n",
    "        else:\n",
    "            odd.append(i)\n",
    "    return \"\\nEven list: {} \\nOdd list: {}\".format(even, odd)\n",
    "lst = ['1', '2', '3', '4', '5', '6', '7', '8', '9', '10', '11', '12', '13']\n",
    "print(even_odd(lst))\n",
    "#Took 6 minutes"
   ]
  },
  {
   "cell_type": "markdown",
   "metadata": {},
   "source": [
    "Question 10:\n",
    "Write a function which will take the string from the user and return how many alphabets have been used in it and which alphabets are missing.\n"
   ]
  },
  {
   "cell_type": "code",
   "execution_count": 64,
   "metadata": {},
   "outputs": [
    {
     "name": "stdout",
     "output_type": "stream",
     "text": [
      "Enter a string: My name is abeer\n",
      "\n",
      "Used Alphabets: 9\n",
      "Missing Alphabets: ['c', 'd', 'f', 'g', 'h', 'j', 'k', 'l', 'o', 'p', 'q', 't', 'u', 'v', 'w', 'x', 'z']\n"
     ]
    }
   ],
   "source": [
    "def missingAlpha(string):\n",
    "    alphabets = ['a', 'b', 'c', 'd', 'e', 'f', 'g', 'h', 'i', 'j', 'k', 'l', 'm', 'n', 'o', 'p', 'q', 'r', 's', 't', 'u', 'v', 'w', 'x', 'y', 'z']\n",
    "    used=0\n",
    "    for i in string:\n",
    "            if i in alphabets:\n",
    "                used+=1\n",
    "                alphabets.remove(i)\n",
    "    return \"\\nUsed Alphabets: {}\\nMissing Alphabets: {}\".format(used, alphabets)\n",
    "string=(str(input('Enter a string: '))).lower()\n",
    "print(missingAlpha(string))\n",
    "#took 22 minutes to figure out"
   ]
  },
  {
   "cell_type": "markdown",
   "metadata": {},
   "source": [
    "Question 11:\n",
    "Write a function that will take verbs in words and return a list of verbs with continuous tense by adding (ing) at the end of each verb.\n"
   ]
  },
  {
   "cell_type": "code",
   "execution_count": 21,
   "metadata": {},
   "outputs": [
    {
     "name": "stdout",
     "output_type": "stream",
     "text": [
      "Enter a verb: run\n",
      "\n",
      "Continuous form of \"Run\" is \"Runing\".\n"
     ]
    }
   ],
   "source": [
    "def verbing(verb):\n",
    "    return verb+\"ing\"\n",
    "v = (str(input('Enter a verb: '))).title()\n",
    "print('\\nContinuous form of \"{}\" is \"{}\".'.format(v, verbing(v)))\n",
    "#Took 5 minutes"
   ]
  },
  {
   "cell_type": "markdown",
   "metadata": {},
   "source": [
    "Question 12:\n",
    "Make a function which can take two radius of circles and find the areas of it and subtract smaller one from larger one and tell the remaining area of circle.\n"
   ]
  },
  {
   "cell_type": "code",
   "execution_count": 19,
   "metadata": {},
   "outputs": [
    {
     "name": "stdout",
     "output_type": "stream",
     "text": [
      "\n",
      "Enter radius of first circle(in cm): 7.5\n",
      "\n",
      "Enter breadth of second circle(in cm): 10\n",
      "\n",
      "By subtracting the smaller area of circle from larger we get 24.674cm²\n"
     ]
    }
   ],
   "source": [
    "from math import pi\n",
    "def area(r1, r2):\n",
    "    return max(r1*pi**2, r2*pi**2)-min(r1*pi**2, r2*pi**2)\n",
    "\n",
    "r1=eval(input('\\nEnter radius of first circle(in cm): '))\n",
    "r2=eval(input('\\nEnter breadth of second circle(in cm): '))\n",
    "\n",
    "print(\"\\nBy subtracting the smaller area of circle from larger we get {:.3f}cm\\u00b2\".format(area(r1, r2)))\n",
    "#Took 10 minutes"
   ]
  },
  {
   "cell_type": "markdown",
   "metadata": {},
   "source": [
    "Question 13:\n",
    "Write a function that will take a string and calculate number of Upper case letters and lower case letters.\n"
   ]
  },
  {
   "cell_type": "code",
   "execution_count": 16,
   "metadata": {},
   "outputs": [
    {
     "name": "stdout",
     "output_type": "stream",
     "text": [
      "Enter a string: My name is Abeer Ali Khan\n",
      "\n",
      "Upper case letters: 4\n",
      "Lower Case Letters: 16\n"
     ]
    }
   ],
   "source": [
    "def cal(string):\n",
    "    upper=0\n",
    "    lower=0\n",
    "    for i in string:\n",
    "        if i==i.upper() and i!=\" \":\n",
    "            upper+=1\n",
    "        elif i==i.lower() and i!=\" \":\n",
    "            lower+=1\n",
    "    return '\\nUpper case letters: {}\\nLower Case Letters: {}'.format(upper, lower)\n",
    "string=str(input('Enter a string: '))\n",
    "print(cal(string))\n",
    "#Took 15 minutes"
   ]
  },
  {
   "cell_type": "markdown",
   "metadata": {},
   "source": [
    "Question 14:\n",
    "Write a function which will take length and breadth of two rectangles. Subtract the smaller rectangle from the larger rectangle and return the area left behind.\n"
   ]
  },
  {
   "cell_type": "code",
   "execution_count": 13,
   "metadata": {},
   "outputs": [
    {
     "name": "stdout",
     "output_type": "stream",
     "text": [
      "\n",
      "Enter length of first rectangle(in cm): 5\n",
      "\n",
      "Enter breadth of first rectangle(in cm): 8\n",
      "\n",
      "Enter length of second rectangle(in cm): 7\n",
      "\n",
      "Enter breadth of second rectangle(in cm): 9\n",
      "\n",
      "By subtracting the smaller area from larger we get 23.000cm²\n"
     ]
    }
   ],
   "source": [
    "def area(l1, l2, b1, b2):\n",
    "    return max(l1*b1, l2*b2)-min(l1*b1, l2*b2)\n",
    "\n",
    "l1=eval(input('\\nEnter length of first rectangle(in cm): '))\n",
    "b1=eval(input('\\nEnter breadth of first rectangle(in cm): '))\n",
    "l2=eval(input('\\nEnter length of second rectangle(in cm): '))\n",
    "b2=eval(input('\\nEnter breadth of second rectangle(in cm): '))\n",
    "\n",
    "print(\"\\nBy subtracting the smaller area from larger we get {:.3f}cm\\u00b2\".format(area(l1, l2, b1, b2)))\n",
    "#Took 10 minutes"
   ]
  },
  {
   "cell_type": "markdown",
   "metadata": {},
   "source": [
    "Question 15:\n",
    "Create a function that can add the fractions in series such as 1 to 8 = 1/8+1/7+1/6+1/5 …… ½ and return the result in fraction not in decimal.\n"
   ]
  },
  {
   "cell_type": "code",
   "execution_count": 3,
   "metadata": {},
   "outputs": [
    {
     "name": "stdout",
     "output_type": "stream",
     "text": [
      "Enter a range: 8\n",
      "761/280\n"
     ]
    }
   ],
   "source": [
    "from fractions import Fraction\n",
    "def fraction_master(num):\n",
    "    ans = 0\n",
    "    for i in range(1 ,num+1):\n",
    "        ans+=Fraction(1,i)\n",
    "    return ans\n",
    "ran = int(input(\"Enter a range: \"))\n",
    "print(fraction_master(ran))\n",
    "#Took 12 minutes"
   ]
  },
  {
   "cell_type": "markdown",
   "metadata": {},
   "source": [
    "Question 16:\n",
    "Write a function which will take height and base for a triangle, deferment the area by 5%, subtract both and find the remaining."
   ]
  },
  {
   "cell_type": "code",
   "execution_count": 66,
   "metadata": {},
   "outputs": [
    {
     "name": "stdout",
     "output_type": "stream",
     "text": [
      "Enter height of the triangle(in cm): 15\n",
      "Enter base of the triangle(in cm): 10\n",
      "\n",
      "The remaining area is 71.25cm²\n"
     ]
    }
   ],
   "source": [
    "def area(h, b):\n",
    "    return \"\\nThe remaining area is {}cm\\u00b2\".format((1/2*h*b)-(1/2*h*b*0.05))\n",
    "\n",
    "height = eval(input(\"Enter height of the triangle(in cm): \"))\n",
    "base = eval(input(\"Enter base of the triangle(in cm): \"))\n",
    "\n",
    "print(area(height, base))\n",
    "#Approx 5 minutes"
   ]
  },
  {
   "cell_type": "markdown",
   "metadata": {},
   "source": [
    "Question 17:\n",
    "Write a function which will take a list of fruits names. The function will return how many alphabets are repetitive in the names of fruits and how many are unique letters.\n"
   ]
  },
  {
   "cell_type": "code",
   "execution_count": 12,
   "metadata": {},
   "outputs": [
    {
     "name": "stdout",
     "output_type": "stream",
     "text": [
      "\n",
      "Fruit \"Banana\",\n",
      "Repitive Letter(s): 5\n",
      "Unique Letter(s): 1\n",
      "\n",
      "Fruit \"Mango\",\n",
      "Repitive Letter(s): 0\n",
      "Unique Letter(s): 5\n",
      "\n",
      "Fruit \"Apple\",\n",
      "Repitive Letter(s): 2\n",
      "Unique Letter(s): 3\n",
      "\n",
      "Fruit \"Pineapple\",\n",
      "Repitive Letter(s): 5\n",
      "Unique Letter(s): 4\n",
      "\n",
      "Fruit \"Watermelon\",\n",
      "Repitive Letter(s): 2\n",
      "Unique Letter(s): 8\n",
      "\n",
      "Fruit \"Coconut\",\n",
      "Repitive Letter(s): 4\n",
      "Unique Letter(s): 3\n",
      "\n",
      "Fruit \"Strawberry\",\n",
      "Repitive Letter(s): 3\n",
      "Unique Letter(s): 7\n"
     ]
    }
   ],
   "source": [
    "def query(f):\n",
    "    lower_list=[]\n",
    "    for i in f:\n",
    "        lower_list.append(i.lower())\n",
    "    for fruit in lower_list:\n",
    "        rep = 0\n",
    "        unique = 0\n",
    "        for alphabet in fruit:\n",
    "            if fruit.count(alphabet)>1:\n",
    "                rep+=1\n",
    "            else:\n",
    "                unique+=1\n",
    "        print('\\nFruit \"{}\",\\nRepitive Letter(s): {}\\nUnique Letter(s): {}'.format(fruit.title(), rep, unique))\n",
    "    \n",
    "\n",
    "fruits=['Banana', 'Mango', 'Apple', 'Pineapple', 'Watermelon', 'Coconut', 'Strawberry']\n",
    "query(fruits)\n",
    "#Took 16 minutes"
   ]
  },
  {
   "cell_type": "markdown",
   "metadata": {},
   "source": [
    "Question 18:\n",
    "Write a function that can take square length and radius of circle. Find the area of both and subtract the smallest shape from largest one and return the remaining shape area.\n"
   ]
  },
  {
   "cell_type": "code",
   "execution_count": 11,
   "metadata": {},
   "outputs": [
    {
     "name": "stdout",
     "output_type": "stream",
     "text": [
      "Enter length of the square(in cm): 15\n",
      "Enter radius of the circle(in cm): 12\n",
      "\n",
      "By subtracting the smallest area from the largest area we get 227.389cm².\n"
     ]
    }
   ],
   "source": [
    "from math import pi\n",
    "def area(l ,r):\n",
    "    return max(l*l, pi*r**2)-min(l*l, pi*r**2)\n",
    "\n",
    "length=eval(input('Enter length of the square(in cm): '))\n",
    "radius=eval(input('Enter radius of the circle(in cm): '))\n",
    "print(\"\\nBy subtracting the smallest area from the largest area we get {:.3f}cm\\u00b2.\".format(area(length, radius)))\n",
    "\n",
    "#Took 10 minutes"
   ]
  }
 ],
 "metadata": {
  "kernelspec": {
   "display_name": "Python 3",
   "language": "python",
   "name": "python3"
  },
  "language_info": {
   "codemirror_mode": {
    "name": "ipython",
    "version": 3
   },
   "file_extension": ".py",
   "mimetype": "text/x-python",
   "name": "python",
   "nbconvert_exporter": "python",
   "pygments_lexer": "ipython3",
   "version": "3.7.4"
  }
 },
 "nbformat": 4,
 "nbformat_minor": 2
}
